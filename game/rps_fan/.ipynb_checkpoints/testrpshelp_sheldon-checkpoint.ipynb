{
 "cells": [
  {
   "cell_type": "code",
   "execution_count": 2,
   "metadata": {},
   "outputs": [
    {
     "name": "stderr",
     "output_type": "stream",
     "text": [
      "test_display (__main__.Testrpshelp_sheldon) ... ok\n",
      "test_sheldonmodel (__main__.Testrpshelp_sheldon) ... "
     ]
    },
    {
     "name": "stdout",
     "output_type": "stream",
     "text": [
      "You have to choose from: \n",
      "Rock\n",
      "Paper\n",
      "Scissors\n",
      "Lizard\n",
      "Spock\n",
      "\n",
      " \n",
      " How does it work? \n",
      " \n",
      "\n",
      "\n",
      " Scissors cuts Paper \n",
      " Paper covers Rock \n",
      " Rock crushes Lizard \n",
      " Lizard poisons Spock \n",
      " Spock smashes Scissors \n",
      " Scissors decapitates Lizard \n",
      " Lizard eats Paper \n",
      " Paper disproves Spock \n",
      " Spock vaporizes Rock \n",
      " Rock crushes Scissors\n",
      "\n",
      "You have to choose from: \n",
      "Rock\n",
      "Paper\n",
      "Scissors\n",
      "Lizard\n",
      "Spock\n",
      "\n",
      " \n",
      " How does it work? \n",
      " \n",
      "\n",
      "\n",
      " Scissors cuts Paper \n",
      " Paper covers Rock \n",
      " Rock crushes Lizard \n",
      " Lizard poisons Spock \n",
      " Spock smashes Scissors \n",
      " Scissors decapitates Lizard \n",
      " Lizard eats Paper \n",
      " Paper disproves Spock \n",
      " Spock vaporizes Rock \n",
      " Rock crushes Scissors\n",
      "\n",
      "You have to choose from: \n",
      "Rock\n",
      "Paper\n",
      "Scissors\n",
      "Lizard\n",
      "Spock\n",
      "\n",
      " \n",
      " How does it work? \n",
      " \n",
      "\n",
      "\n",
      " Scissors cuts Paper \n",
      " Paper covers Rock \n",
      " Rock crushes Lizard \n",
      " Lizard poisons Spock \n",
      " Spock smashes Scissors \n",
      " Scissors decapitates Lizard \n",
      " Lizard eats Paper \n",
      " Paper disproves Spock \n",
      " Spock vaporizes Rock \n",
      " Rock crushes Scissors\n",
      "\n"
     ]
    },
    {
     "name": "stderr",
     "output_type": "stream",
     "text": [
      "ok\n",
      "\n",
      "----------------------------------------------------------------------\n",
      "Ran 2 tests in 0.004s\n",
      "\n",
      "OK\n"
     ]
    },
    {
     "data": {
      "text/plain": [
       "<unittest.main.TestProgram at 0x7fa305d44100>"
      ]
     },
     "execution_count": 2,
     "metadata": {},
     "output_type": "execute_result"
    }
   ],
   "source": [
    "import unittest\n",
    "import rpshelp_sheldon\n",
    "\n",
    "class Testrpshelp_sheldon(unittest.TestCase): # test class\n",
    "    def setUp(self):\n",
    "        self.a = rpshelp_sheldon.rpshelp_sheldon()\n",
    "        self.b = rpshelp_sheldon.rpshelp_sheldon()\n",
    "    def tearDown(self):\n",
    "        self.a = None\n",
    "        self.b = None\n",
    "    def test_display(self):\n",
    "        #a = rpshelp_sheldon.rpshelp_sheldon()\n",
    "        a1 = self.a.display_sheldon()\n",
    "        #b = rpshelp_sheldon.rpshelp_sheldon()\n",
    "        b1 = self.b.display_sheldon()\n",
    "        self.assertNotEqual(self.a.display_sheldon() , '')\n",
    "        self.assertIsInstance(self.a, rpshelp_sheldon.rpshelp_sheldon)\n",
    "        self.assertIs(a1, b1)\n",
    "        self.assertIsNot(self.a, a1)\n",
    "        \n",
    "    def test_sheldonmodel(self):\n",
    "        self.a = rpshelp_sheldon.rpshelp_sheldon()\n",
    "        self.assertIn('Rock', self.a.models)\n",
    "        self.assertIn('Lizard', self.a.models)\n",
    "        self.assertIn('Scissors', self.a.models)\n",
    "        self.assertIn('Spock', self.a.models)\n",
    "        \n",
    "\n",
    "unittest.main(argv=[''], verbosity=2, exit=False)"
   ]
  },
  {
   "cell_type": "code",
   "execution_count": null,
   "metadata": {},
   "outputs": [],
   "source": []
  }
 ],
 "metadata": {
  "kernelspec": {
   "display_name": "Python 3",
   "language": "python",
   "name": "python3"
  },
  "language_info": {
   "codemirror_mode": {
    "name": "ipython",
    "version": 3
   },
   "file_extension": ".py",
   "mimetype": "text/x-python",
   "name": "python",
   "nbconvert_exporter": "python",
   "pygments_lexer": "ipython3",
   "version": "3.8.5"
  }
 },
 "nbformat": 4,
 "nbformat_minor": 4
}
