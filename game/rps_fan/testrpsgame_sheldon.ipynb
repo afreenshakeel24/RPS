{
 "cells": [
  {
   "cell_type": "code",
   "execution_count": 2,
   "metadata": {},
   "outputs": [
    {
     "name": "stderr",
     "output_type": "stream",
     "text": [
      "test_display (__main__.Testrpsgame_sheldon) ... ok\n",
      "test_game_rps_sheldon (__main__.Testrpsgame_sheldon) ... ok\n",
      "test_sheldonmodel (__main__.Testrpsgame_sheldon) ... "
     ]
    },
    {
     "name": "stdout",
     "output_type": "stream",
     "text": [
      "You have to choose from: \n",
      "Rock\n",
      "Paper\n",
      "Scissors\n",
      "Lizard\n",
      "Spock\n",
      "\n",
      " \n",
      " How does it work? \n",
      " \n",
      "\n",
      "\n",
      " Scissors cuts Paper \n",
      " Paper covers Rock \n",
      " Rock crushes Lizard \n",
      " Lizard poisons Spock \n",
      " Spock smashes Scissors \n",
      " Scissors decapitates Lizard \n",
      " Lizard eats Paper \n",
      " Paper disproves Spock \n",
      " Spock vaporizes Rock \n",
      " Rock crushes Scissors\n",
      "\n",
      "You have to choose from: \n",
      "Rock\n",
      "Paper\n",
      "Scissors\n",
      "Lizard\n",
      "Spock\n",
      "\n",
      " \n",
      " How does it work? \n",
      " \n",
      "\n",
      "\n",
      " Scissors cuts Paper \n",
      " Paper covers Rock \n",
      " Rock crushes Lizard \n",
      " Lizard poisons Spock \n",
      " Spock smashes Scissors \n",
      " Scissors decapitates Lizard \n",
      " Lizard eats Paper \n",
      " Paper disproves Spock \n",
      " Spock vaporizes Rock \n",
      " Rock crushes Scissors\n",
      "\n",
      "You have to choose from: \n",
      "Rock\n",
      "Paper\n",
      "Scissors\n",
      "Lizard\n",
      "Spock\n",
      "\n",
      " \n",
      " How does it work? \n",
      " \n",
      "\n",
      "\n",
      " Scissors cuts Paper \n",
      " Paper covers Rock \n",
      " Rock crushes Lizard \n",
      " Lizard poisons Spock \n",
      " Spock smashes Scissors \n",
      " Scissors decapitates Lizard \n",
      " Lizard eats Paper \n",
      " Paper disproves Spock \n",
      " Spock vaporizes Rock \n",
      " Rock crushes Scissors\n",
      "\n"
     ]
    },
    {
     "name": "stderr",
     "output_type": "stream",
     "text": [
      "ok\n",
      "\n",
      "----------------------------------------------------------------------\n",
      "Ran 3 tests in 0.032s\n",
      "\n",
      "OK\n"
     ]
    },
    {
     "data": {
      "text/plain": [
       "<unittest.main.TestProgram at 0x7fafdac4b9a0>"
      ]
     },
     "execution_count": 2,
     "metadata": {},
     "output_type": "execute_result"
    }
   ],
   "source": [
    "import unittest\n",
    "import rpsgame_sheldon\n",
    "\n",
    "class Testrpsgame_sheldon(unittest.TestCase): # test class\n",
    "    def setUp_class(self):\n",
    "        self.a = rpsgame_sheldon.rpsgame_sheldon()\n",
    "        self.b = rpsgame_sheldon.rpsgame_sheldon()\n",
    "    def tearDown_class(self):\n",
    "        self.a = None\n",
    "        self.b = None\n",
    "    def setUp(self):\n",
    "        self.a = rpsgame_sheldon.rpsgame_sheldon()\n",
    "        self.b = rpsgame_sheldon.rpsgame_sheldon()\n",
    "    def tearDown(self):\n",
    "        self.a = None\n",
    "        self.b = None\n",
    "    def test_display(self):\n",
    "        #a = rpsgame_sheldon.rpsgame_sheldon()\n",
    "        a1 = self.a.display()\n",
    "        #b = rpsgame_sheldon.rpsgame_sheldon()\n",
    "        b1 = self.b.display()\n",
    "        self.assertNotEqual(self.a.display() , '')\n",
    "        self.assertIsInstance(self.a, rpsgame_sheldon.rpsgame_sheldon)\n",
    "        self.assertIs(a1, b1)\n",
    "    def test_game_rps_sheldon(self):\n",
    "        a = rpsgame_sheldon.rpsgame_sheldon()\n",
    "        b = rpsgame_sheldon.rpsgame_sheldon()\n",
    "        c1 = self.a.game_rps_sheldon\n",
    "        d1 = self.b.game_rps_sheldon\n",
    "        self.assertIsNotNone(c1)\n",
    "        self.assertIsNotNone(d1)\n",
    "        \n",
    "    def test_sheldonmodel(self):\n",
    "        a = rpsgame_sheldon.rpsgame_sheldon()\n",
    "        self.assertIn('Rock', self.a.models)\n",
    "        self.assertIn('Lizard', self.a.models)\n",
    "        self.assertIn('Scissors', self.a.models)\n",
    "        self.assertIn('Spock', self.a.models)\n",
    "        \n",
    "unittest.main(argv=[''], verbosity=2, exit=False)"
   ]
  },
  {
   "cell_type": "code",
   "execution_count": null,
   "metadata": {},
   "outputs": [],
   "source": []
  }
 ],
 "metadata": {
  "kernelspec": {
   "display_name": "Python 3",
   "language": "python",
   "name": "python3"
  },
  "language_info": {
   "codemirror_mode": {
    "name": "ipython",
    "version": 3
   },
   "file_extension": ".py",
   "mimetype": "text/x-python",
   "name": "python",
   "nbconvert_exporter": "python",
   "pygments_lexer": "ipython3",
   "version": "3.8.5"
  }
 },
 "nbformat": 4,
 "nbformat_minor": 4
}
