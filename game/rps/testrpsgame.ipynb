{
 "cells": [
  {
   "cell_type": "code",
   "execution_count": 3,
   "metadata": {},
   "outputs": [
    {
     "name": "stderr",
     "output_type": "stream",
     "text": [
      "test_display (__main__.Testrpsgame) ... ok\n",
      "test_game_rps (__main__.Testrpsgame) ... ok\n",
      "test_traditionalmodel (__main__.Testrpsgame) ... "
     ]
    },
    {
     "name": "stdout",
     "output_type": "stream",
     "text": [
      "You have to choose from: \n",
      "Rock\n",
      "Paper\n",
      "Scissors\n",
      "\n",
      " \n",
      " How does it work? \n",
      " \n",
      "\n",
      "Rock crushes Scissors \n",
      " Scissors cuts Paper \n",
      " Paper covers Rock\n",
      "You have to choose from: \n",
      "Rock\n",
      "Paper\n",
      "Scissors\n",
      "\n",
      " \n",
      " How does it work? \n",
      " \n",
      "\n",
      "Rock crushes Scissors \n",
      " Scissors cuts Paper \n",
      " Paper covers Rock\n",
      "You have to choose from: \n",
      "Rock\n",
      "Paper\n",
      "Scissors\n",
      "\n",
      " \n",
      " How does it work? \n",
      " \n",
      "\n",
      "Rock crushes Scissors \n",
      " Scissors cuts Paper \n",
      " Paper covers Rock\n"
     ]
    },
    {
     "name": "stderr",
     "output_type": "stream",
     "text": [
      "ok\n",
      "\n",
      "----------------------------------------------------------------------\n",
      "Ran 3 tests in 0.005s\n",
      "\n",
      "OK\n"
     ]
    },
    {
     "data": {
      "text/plain": [
       "<unittest.main.TestProgram at 0x7f970947ff40>"
      ]
     },
     "execution_count": 3,
     "metadata": {},
     "output_type": "execute_result"
    }
   ],
   "source": [
    "import unittest\n",
    "import rpsgame\n",
    "\n",
    "class Testrpsgame(unittest.TestCase): # test class\n",
    "    def setUp_class(self):\n",
    "        self.a = rpsgame.rpsgame()\n",
    "        self.b = rpsgame.rpsgame()\n",
    "    def tearDown_class(self):\n",
    "        self.a = None\n",
    "        self.b = None   \n",
    "    def setUp(self):\n",
    "        self.a = rpsgame.rpsgame()\n",
    "        self.b = rpsgame.rpsgame()\n",
    "    def tearDown(self):\n",
    "        self.a = None\n",
    "        self.b = None\n",
    "    def test_display(self):\n",
    "        #a = rpsgame.rpsgame()\n",
    "        a1 = self.a.display()\n",
    "        #b = rpsgame.rpsgame()\n",
    "        b1 = self.b.display()\n",
    "        self.assertNotEqual(self.a.display() , '')\n",
    "        self.assertIsInstance(self.a, rpsgame.rpsgame)\n",
    "        self.assertIs(a1, b1)\n",
    "       \n",
    "    def test_game_rps(self):\n",
    "        #a = rpsgame.rpsgame()\n",
    "        #b = rpsgame.rpsgame()\n",
    "        c1 = self.a.game_rps\n",
    "        d1 = self.b.game_rps\n",
    "        self.assertIsNotNone(c1)\n",
    "        self.assertIsNotNone(d1)\n",
    "        \n",
    "    def test_traditionalmodel(self):\n",
    "        #a = rpsgame.rpsgame()\n",
    "        self.assertIn('Rock', self.a.models)\n",
    "        self.assertIn('Paper', self.a.models)\n",
    "        self.assertIn('Scissors', self.a.models)\n",
    "        self.assertNotIn('Spock', self.a.models)\n",
    "        \n",
    "unittest.main(argv=[''], verbosity=2, exit=False)"
   ]
  },
  {
   "cell_type": "code",
   "execution_count": null,
   "metadata": {},
   "outputs": [],
   "source": []
  }
 ],
 "metadata": {
  "kernelspec": {
   "display_name": "Python 3",
   "language": "python",
   "name": "python3"
  },
  "language_info": {
   "codemirror_mode": {
    "name": "ipython",
    "version": 3
   },
   "file_extension": ".py",
   "mimetype": "text/x-python",
   "name": "python",
   "nbconvert_exporter": "python",
   "pygments_lexer": "ipython3",
   "version": "3.8.5"
  }
 },
 "nbformat": 4,
 "nbformat_minor": 4
}
