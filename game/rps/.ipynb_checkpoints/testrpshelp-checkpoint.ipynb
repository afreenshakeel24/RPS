{
 "cells": [
  {
   "cell_type": "code",
   "execution_count": 2,
   "metadata": {},
   "outputs": [
    {
     "name": "stderr",
     "output_type": "stream",
     "text": [
      "test_display_ (__main__.Testrpshelp) ... ok\n",
      "test_traditionalmodel (__main__.Testrpshelp) ... "
     ]
    },
    {
     "name": "stdout",
     "output_type": "stream",
     "text": [
      "You have to choose from: \n",
      "Rock\n",
      "Paper\n",
      "Scissors\n",
      "\n",
      " \n",
      " How does it work? \n",
      " \n",
      "\n",
      "Rock crushes Scissors \n",
      " Scissors cuts Paper \n",
      " Paper covers Rock\n",
      "You have to choose from: \n",
      "Rock\n",
      "Paper\n",
      "Scissors\n",
      "\n",
      " \n",
      " How does it work? \n",
      " \n",
      "\n",
      "Rock crushes Scissors \n",
      " Scissors cuts Paper \n",
      " Paper covers Rock\n",
      "You have to choose from: \n",
      "Rock\n",
      "Paper\n",
      "Scissors\n",
      "\n",
      " \n",
      " How does it work? \n",
      " \n",
      "\n",
      "Rock crushes Scissors \n",
      " Scissors cuts Paper \n",
      " Paper covers Rock\n"
     ]
    },
    {
     "name": "stderr",
     "output_type": "stream",
     "text": [
      "ok\n",
      "\n",
      "----------------------------------------------------------------------\n",
      "Ran 2 tests in 0.003s\n",
      "\n",
      "OK\n"
     ]
    },
    {
     "data": {
      "text/plain": [
       "<unittest.main.TestProgram at 0x7fde8e518e80>"
      ]
     },
     "execution_count": 2,
     "metadata": {},
     "output_type": "execute_result"
    }
   ],
   "source": [
    "import unittest\n",
    "import rpshelp\n",
    "\n",
    "class Testrpshelp(unittest.TestCase): # test class\n",
    "    def setUp(self):\n",
    "        self.a = rpshelp.rpshelp()\n",
    "        self.b = rpshelp.rpshelp()\n",
    "    def tearDown(self):\n",
    "        self.a = None\n",
    "        self.b = None\n",
    "    def test_display_(self):\n",
    "        #a = rpshelp.rpshelp()\n",
    "        a1 = self.a.display_()\n",
    "        #b = rpshelp.rpshelp()\n",
    "        b1 = self.b.display_()\n",
    "        self.assertNotEqual(self.a.display_() , '')\n",
    "        self.assertIsInstance(self.a, rpshelp.rpshelp)\n",
    "        self.assertIs(a1, b1)\n",
    "        self.assertIsNot(self.a, a1)\n",
    "        \n",
    "    def test_traditionalmodel(self):\n",
    "        #a = rpshelp.rpshelp()\n",
    "        self.assertIn('Rock', self.a.models)\n",
    "        self.assertIn('Paper', self.a.models)\n",
    "        self.assertIn('Scissors', self.a.models)\n",
    "        self.assertNotIn('Spock', self.a.models)\n",
    "        \n",
    "unittest.main(argv=[''], verbosity=2, exit=False)"
   ]
  },
  {
   "cell_type": "code",
   "execution_count": null,
   "metadata": {},
   "outputs": [],
   "source": []
  }
 ],
 "metadata": {
  "kernelspec": {
   "display_name": "Python 3",
   "language": "python",
   "name": "python3"
  },
  "language_info": {
   "codemirror_mode": {
    "name": "ipython",
    "version": 3
   },
   "file_extension": ".py",
   "mimetype": "text/x-python",
   "name": "python",
   "nbconvert_exporter": "python",
   "pygments_lexer": "ipython3",
   "version": "3.8.5"
  }
 },
 "nbformat": 4,
 "nbformat_minor": 4
}
