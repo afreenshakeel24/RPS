{
 "cells": [
  {
   "cell_type": "code",
   "execution_count": 2,
   "metadata": {},
   "outputs": [
    {
     "name": "stderr",
     "output_type": "stream",
     "text": [
      "test_playgame_len (__main__.Testplaythisgame) ... ok\n",
      "test_playgame_type (__main__.Testplaythisgame) ... ok\n",
      "\n",
      "----------------------------------------------------------------------\n",
      "Ran 2 tests in 0.002s\n",
      "\n",
      "OK\n"
     ]
    },
    {
     "data": {
      "text/plain": [
       "<unittest.main.TestProgram at 0x7fb2051ad0a0>"
      ]
     },
     "execution_count": 2,
     "metadata": {},
     "output_type": "execute_result"
    }
   ],
   "source": [
    "import unittest\n",
    "import playthisgame\n",
    "\n",
    "class Testplaythisgame(unittest.TestCase):# test class\n",
    "    def setUp_class(self):\n",
    "        self.a = playthisgame.Maingame()\n",
    "        self.b = playthisgame.Maingame()\n",
    "    def tearDown_class(self):\n",
    "        self.a = None\n",
    "        self.b = None\n",
    "    def setUp(self):\n",
    "        self.a = playthisgame.Maingame()\n",
    "        self.b = playthisgame.Maingame()\n",
    "    def tearDown(self):\n",
    "        self.a = None\n",
    "        self.b = None\n",
    "    def test_playgame_len(self):\n",
    "        a = playthisgame.Maingame()\n",
    "        self.assertEqual(len(self.a.models), 0)\n",
    "        self.assertEqual(len(self.a.x), 30)\n",
    "        self.assertEqual(len(self.a.y), 28)\n",
    "        self.assertEqual(len(self.a.z), 22)\n",
    "        \n",
    "    def test_playgame_type(self):\n",
    "        b = playthisgame.Maingame()\n",
    "        self.assertEqual(type(self.b.models), list)\n",
    "        self.assertEqual(type(self.b.x), str)\n",
    "        self.assertEqual(type(self.b.y), str)\n",
    "        self.assertNotEqual(type(self.b.z), int)\n",
    "    \n",
    "        \n",
    "        \n",
    "unittest.main(argv=[''], verbosity=2, exit=False)"
   ]
  }
 ],
 "metadata": {
  "kernelspec": {
   "display_name": "Python 3",
   "language": "python",
   "name": "python3"
  },
  "language_info": {
   "codemirror_mode": {
    "name": "ipython",
    "version": 3
   },
   "file_extension": ".py",
   "mimetype": "text/x-python",
   "name": "python",
   "nbconvert_exporter": "python",
   "pygments_lexer": "ipython3",
   "version": "3.8.5"
  }
 },
 "nbformat": 4,
 "nbformat_minor": 4
}
